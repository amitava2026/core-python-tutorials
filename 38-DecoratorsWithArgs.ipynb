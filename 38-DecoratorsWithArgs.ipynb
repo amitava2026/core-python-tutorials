{
 "cells": [
  {
   "cell_type": "code",
   "id": "initial_id",
   "metadata": {
    "collapsed": true,
    "ExecuteTime": {
     "end_time": "2025-10-16T18:16:55.296169Z",
     "start_time": "2025-10-16T18:16:55.291251Z"
    }
   },
   "source": [
    "# Decorators without arguments\n",
    "def decorator_function(original_function):\n",
    "    def wrapper(*args, **kwargs):\n",
    "        print(\n",
    "            f\"Executing {original_function.__name__} with positional arguments {args} and keyword arguments {kwargs}\")\n",
    "        result = original_function(*args, **kwargs)\n",
    "        print(f\"Executed {original_function.__name__}\")\n",
    "        return result\n",
    "\n",
    "    return wrapper\n",
    "\n",
    "\n",
    "@decorator_function\n",
    "def my_func(*args, **kwargs):\n",
    "    print(f\"Inside my_func with positional args {args}, keyword args {kwargs}\")\n",
    "\n",
    "\n",
    "my_func(\"A1\", \"A2\", some_key=\"some_value\")"
   ],
   "outputs": [
    {
     "name": "stdout",
     "output_type": "stream",
     "text": [
      "Executing my_func with positional arguments ('A1', 'A2') and keyword arguments {'some_key': 'some_value'}\n",
      "Inside my_func with positional args ('A1', 'A2'), keyword args {'some_key': 'some_value'}\n",
      "Executed my_func\n"
     ]
    }
   ],
   "execution_count": 2
  },
  {
   "metadata": {
    "ExecuteTime": {
     "end_time": "2025-10-16T18:32:40.212276Z",
     "start_time": "2025-10-16T18:32:40.207453Z"
    }
   },
   "cell_type": "code",
   "source": [
    "# Decorators with arguments\n",
    "def prefix_decorator(prefix):\n",
    "    def decorator_v1(original_function):\n",
    "        def wrapper(*args, **kwargs):\n",
    "            print(prefix,\n",
    "                  f\"Executing {original_function.__name__} with positional arguments {args} and keyword arguments {kwargs}\")\n",
    "\n",
    "            result = original_function(*args, **kwargs)\n",
    "            print(prefix, f\"Executed {original_function.__name__}\")\n",
    "            return result\n",
    "\n",
    "        return wrapper\n",
    "\n",
    "    return decorator_v1\n",
    "\n",
    "\n",
    "@prefix_decorator(\"LOG::\")\n",
    "def my_func1(*args, **kwargs):\n",
    "    print(f\"Inside {my_func1.__name__} with args {args}, {kwargs}\")\n",
    "\n",
    "\n",
    "my_func1(\"A2\", \"A3\", some_key=\"some_value\")\n",
    "print(my_func1.__name__)\n",
    "\n",
    "\n",
    "# @prefix_decorator(\"LOG::\")\n",
    "# def my_func1(*args, **kwargs):\n",
    "#     print(f\"Inside {my_func1.__name__} with args {args}, {kwargs}\")\n",
    "#\n",
    "# This line is syntactic sugar for:\n",
    "# my_func1 = prefix_decorator(\"LOG::\")(my_func1)"
   ],
   "id": "f48f33429c177fb7",
   "outputs": [
    {
     "name": "stdout",
     "output_type": "stream",
     "text": [
      "LOG:: Executing my_func1 with positional arguments ('A2', 'A3') and keyword arguments {'some_key': 'some_value'}\n",
      "Inside wrapper with args ('A2', 'A3'), {'some_key': 'some_value'}\n",
      "LOG:: Executed my_func1\n",
      "wrapper\n"
     ]
    }
   ],
   "execution_count": 7
  },
  {
   "metadata": {},
   "cell_type": "code",
   "outputs": [],
   "execution_count": null,
   "source": "",
   "id": "793b198463c9b8c8"
  }
 ],
 "metadata": {
  "kernelspec": {
   "display_name": "Python 3",
   "language": "python",
   "name": "python3"
  },
  "language_info": {
   "codemirror_mode": {
    "name": "ipython",
    "version": 2
   },
   "file_extension": ".py",
   "mimetype": "text/x-python",
   "name": "python",
   "nbconvert_exporter": "python",
   "pygments_lexer": "ipython2",
   "version": "2.7.6"
  }
 },
 "nbformat": 4,
 "nbformat_minor": 5
}
