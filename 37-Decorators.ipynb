{
 "cells": [
  {
   "cell_type": "code",
   "id": "initial_id",
   "metadata": {
    "collapsed": true,
    "ExecuteTime": {
     "end_time": "2025-10-14T11:57:06.014234Z",
     "start_time": "2025-10-14T11:57:06.010650Z"
    }
   },
   "source": [
    "# Functions in python are first class citizens . i.e. they are objects.\n",
    "# And can be assigned to variables, returned from other functions and can be used as function arguments\n",
    "def square(num):\n",
    "    return num * num\n",
    "\n",
    "\n",
    "print(id(square))  # print the memory address of the 'address' function object\n",
    "\n",
    "f = square  # assigning the square function object to another variable\n",
    "print(f(5))  # invoking the square function object through a reference, in this case 'f'"
   ],
   "outputs": [
    {
     "name": "stdout",
     "output_type": "stream",
     "text": [
      "5545906944\n",
      "25\n"
     ]
    }
   ],
   "execution_count": 3
  },
  {
   "metadata": {
    "ExecuteTime": {
     "end_time": "2025-10-14T12:08:34.962575Z",
     "start_time": "2025-10-14T12:08:34.959557Z"
    }
   },
   "cell_type": "code",
   "source": [
    "# A higher order function - a function that receives another function as an argument or returns another function\n",
    "# map() is a higher order function\n",
    "squared_itr = map(square, [1, 2, 3, 4])\n",
    "print(list(squared_itr))"
   ],
   "id": "da217a27dda99184",
   "outputs": [
    {
     "name": "stdout",
     "output_type": "stream",
     "text": [
      "[1, 4, 9, 16]\n"
     ]
    }
   ],
   "execution_count": 6
  },
  {
   "metadata": {
    "ExecuteTime": {
     "end_time": "2025-10-14T12:10:36.786297Z",
     "start_time": "2025-10-14T12:10:36.783113Z"
    }
   },
   "cell_type": "code",
   "source": [
    "# Implementing our own higher order function\n",
    "def my_map(func, iterable):\n",
    "    result = []\n",
    "    for elem in iterable:\n",
    "        result.append(func(elem))\n",
    "    return result\n",
    "\n",
    "\n",
    "print(my_map(square, [1, 2, 3, 4]))"
   ],
   "id": "dbf0968f7fca7514",
   "outputs": [
    {
     "name": "stdout",
     "output_type": "stream",
     "text": [
      "[1, 4, 9, 16]\n"
     ]
    }
   ],
   "execution_count": 7
  },
  {
   "metadata": {
    "ExecuteTime": {
     "end_time": "2025-10-14T12:19:14.628133Z",
     "start_time": "2025-10-14T12:19:14.625830Z"
    }
   },
   "cell_type": "code",
   "source": [
    "# Another example of a higher order function - Return a function from another function\n",
    "def logger(msg):\n",
    "    def log_message():\n",
    "        print(\"Log:\", msg)\n",
    "\n",
    "    return log_message\n",
    "\n",
    "\n",
    "hi_log = logger('Hi')\n",
    "hi_log()"
   ],
   "id": "4acf3b4cb40ae565",
   "outputs": [
    {
     "name": "stdout",
     "output_type": "stream",
     "text": [
      "Log: Hi\n"
     ]
    }
   ],
   "execution_count": 8
  },
  {
   "metadata": {
    "ExecuteTime": {
     "end_time": "2025-10-14T12:45:40.731589Z",
     "start_time": "2025-10-14T12:45:40.726979Z"
    }
   },
   "cell_type": "code",
   "source": [
    "# Another example of a higher order function\n",
    "def html_tag(tag):\n",
    "    def wrap_text(msg):\n",
    "        print(f\"<{tag}> {msg} </{tag}>\")\n",
    "\n",
    "    return wrap_text\n",
    "\n",
    "\n",
    "print_h1 = html_tag(\"h1\")\n",
    "print_h2 = html_tag(\"h2\")\n",
    "\n",
    "print_h1(\"Heading 1\")  # NOTE: wrap_text() remembered the tag passed to html_tag. This is closure in action!\n",
    "print_h2(\"Heading 2\")"
   ],
   "id": "99932eeab0352818",
   "outputs": [
    {
     "name": "stdout",
     "output_type": "stream",
     "text": [
      "<h1> Heading 1 </h1>\n",
      "<h2> Heading 2 </h2>\n"
     ]
    }
   ],
   "execution_count": 10
  },
  {
   "metadata": {
    "ExecuteTime": {
     "end_time": "2025-10-14T18:14:10.135470Z",
     "start_time": "2025-10-14T18:14:10.132404Z"
    }
   },
   "cell_type": "code",
   "source": [
    "# CLOSURES:\n",
    "# A closure is a function … but with “memory”\n",
    "# So you can think of a closure as: a function bundled together with the variables it needs from its surrounding environment.\n",
    "# When the inner function captures/remembers variables from outside itself, we say it \"closes over\" those variables.\n",
    "# It's like the function wraps itself around those variables and holds onto them.\n",
    "\n",
    "def outer_func(msg):\n",
    "    def inner_func():\n",
    "        print(msg)\n",
    "\n",
    "    return inner_func\n",
    "\n",
    "\n",
    "# Create a closure\n",
    "# hi_func refers to inner_func function which is bundled with the remembered variable 'msg' from outer_func's scope\n",
    "hi_func = outer_func(\"Hi\")\n",
    "print(hi_func.__name__)\n",
    "hi_func()  # call the closure"
   ],
   "id": "8b867f99074fbfd",
   "outputs": [
    {
     "name": "stdout",
     "output_type": "stream",
     "text": [
      "inner_func\n",
      "Hi\n"
     ]
    }
   ],
   "execution_count": 15
  },
  {
   "metadata": {
    "ExecuteTime": {
     "end_time": "2025-10-14T18:04:58.534333Z",
     "start_time": "2025-10-14T18:04:58.530423Z"
    }
   },
   "cell_type": "code",
   "source": [
    "# When you do something like below code, outer_func returns the function object inner_func.\n",
    "# That function object (inner_func) has an attribute called __closure__.\n",
    "# __closure__ is a tuple of “cell” objects\n",
    "hello_func = outer_func(\"Hello\")\n",
    "print(hello_func.__closure__)\n",
    "\n",
    "# each cell storing one variable captured from the outer scope\n",
    "print(hello_func.__closure__[0].cell_contents)\n"
   ],
   "id": "459a155f1c999387",
   "outputs": [
    {
     "name": "stdout",
     "output_type": "stream",
     "text": [
      "(<cell at 0x1573bedd0: str object at 0x14a8bdbb0>,)\n",
      "Hello\n"
     ]
    }
   ],
   "execution_count": 14
  },
  {
   "metadata": {
    "ExecuteTime": {
     "end_time": "2025-10-16T05:40:27.326281Z",
     "start_time": "2025-10-16T05:40:27.321846Z"
    }
   },
   "cell_type": "code",
   "source": [
    "# Practice\n",
    "def outer_function(msg):\n",
    "    def inner_function():\n",
    "        print(msg)\n",
    "\n",
    "    return inner_function\n",
    "\n",
    "\n",
    "hi_function = outer_function(\"Hi\")\n",
    "hello_function = outer_function(\"Hello\")\n",
    "\n",
    "hi_function()\n",
    "hello_function()"
   ],
   "id": "f157f34a5b9f8d24",
   "outputs": [
    {
     "name": "stdout",
     "output_type": "stream",
     "text": [
      "Hi\n",
      "Hello\n"
     ]
    }
   ],
   "execution_count": 1
  },
  {
   "metadata": {
    "ExecuteTime": {
     "end_time": "2025-10-16T06:28:54.199799Z",
     "start_time": "2025-10-16T06:28:54.195934Z"
    }
   },
   "cell_type": "code",
   "source": [
    "# A decorator in Python is a function that takes another function or class as input and\n",
    "# extends or modifies its behavior without changing the original code of the function or class.\n",
    "\n",
    "def decorator_function(original_function):\n",
    "    def wrapper_function():\n",
    "        return original_function()  # return the value(if any) returned from original function after executing it\n",
    "\n",
    "    return wrapper_function\n",
    "\n",
    "\n",
    "def display():\n",
    "    print(\"Display function ran!!\")\n",
    "\n",
    "\n",
    "decorated_display = decorator_function(display)\n",
    "decorated_display()"
   ],
   "id": "219e3ea58785af39",
   "outputs": [
    {
     "name": "stdout",
     "output_type": "stream",
     "text": [
      "Display function ran!!\n"
     ]
    }
   ],
   "execution_count": 10
  },
  {
   "metadata": {
    "ExecuteTime": {
     "end_time": "2025-10-16T06:28:50.884632Z",
     "start_time": "2025-10-16T06:28:50.880468Z"
    }
   },
   "cell_type": "code",
   "source": [
    "# so I can add more functionalities to my existing function by adding those functionalities to the wrapper\n",
    "def decorator_function1(original_function):\n",
    "    def wrapper_function():\n",
    "        print(f\"Wrapper executed this before {original_function.__name__}\")\n",
    "        return original_function()\n",
    "\n",
    "    return wrapper_function\n",
    "\n",
    "\n",
    "def display_msg():\n",
    "    print(\"Saying hello from display_msg()\")\n",
    "\n",
    "\n",
    "display_msg = decorator_function1(display_msg)\n",
    "display_msg()"
   ],
   "id": "b5c6213fd94cb101",
   "outputs": [
    {
     "name": "stdout",
     "output_type": "stream",
     "text": [
      "Wrapper executed this before display_msg\n",
      "Saying hello from display_msg()\n"
     ]
    }
   ],
   "execution_count": 9
  },
  {
   "metadata": {
    "ExecuteTime": {
     "end_time": "2025-10-16T06:44:06.806409Z",
     "start_time": "2025-10-16T06:44:06.802761Z"
    }
   },
   "cell_type": "code",
   "source": [
    "# The above code can be written as\n",
    "def decorator_function2(original_function):\n",
    "    def wrapper_function():\n",
    "        print(f\"Wrapper executed this before {original_function.__name__}\")\n",
    "        return original_function()\n",
    "\n",
    "    return wrapper_function\n",
    "\n",
    "\n",
    "@decorator_function2\n",
    "def display1():\n",
    "    print(\"Inside display...\")\n",
    "\n",
    "\n",
    "display1()\n",
    "\n",
    "# NOTE-the code:\n",
    "# @decorator_function2\n",
    "# def display():\n",
    "#     print(\"Inside display...\")\n",
    "#\n",
    "# is syntactical sugar for\n",
    "# def display():\n",
    "#     print(\"Inside display...\")\n",
    "#\n",
    "# display = decorator_function2(display)\n",
    "#\n",
    "# So display now points to the wrapper function, waiting to be executed\n"
   ],
   "id": "c13ec02e559124b4",
   "outputs": [
    {
     "name": "stdout",
     "output_type": "stream",
     "text": [
      "Wrapper executed this before display1\n",
      "Inside display...\n"
     ]
    }
   ],
   "execution_count": 11
  },
  {
   "metadata": {
    "ExecuteTime": {
     "end_time": "2025-10-16T06:54:43.547101Z",
     "start_time": "2025-10-16T06:54:43.543403Z"
    }
   },
   "cell_type": "code",
   "source": [
    "# What is our original function took in any arguments? In such cases wrapper should take *args & **kwargs\n",
    "# i.e. arbitrary number of positional and keyword arguments\n",
    "\n",
    "def decorator_function3(original_function):\n",
    "    def wrapper_function(*args, **kwargs):\n",
    "        print(f\"Executing wrapper before {original_function.__name__}\")\n",
    "        return original_function(*args, **kwargs)\n",
    "\n",
    "    return wrapper_function\n",
    "\n",
    "\n",
    "@decorator_function3\n",
    "def display2():\n",
    "    print(\"Inside display2\")\n",
    "\n",
    "\n",
    "@decorator_function3\n",
    "def display_info(name, age):\n",
    "    print(f\"display_info() ran with arguments {name}, {age}\")\n",
    "\n",
    "\n",
    "display2()\n",
    "display_info(\"Amitava\", \"2\")\n"
   ],
   "id": "4fa5e1cb7ec3ab5e",
   "outputs": [
    {
     "name": "stdout",
     "output_type": "stream",
     "text": [
      "Executing wrapper before display2\n",
      "Inside display2\n",
      "Executing wrapper before display_info\n",
      "display_info() ran with arguments Amitava, 2\n"
     ]
    }
   ],
   "execution_count": 14
  },
  {
   "metadata": {
    "ExecuteTime": {
     "end_time": "2025-10-16T08:03:44.616248Z",
     "start_time": "2025-10-16T08:03:44.613012Z"
    }
   },
   "cell_type": "code",
   "source": [
    "# Decorators can be classes too\n",
    "# We leverage the __call__() method for this\n",
    "# Any object that implements the __call__() method becomes callable - meaning you can use parenthesis () to call it\n",
    "# just like a function.\n",
    "class Greeter:\n",
    "    def __init__(self, message):\n",
    "        self.message = message\n",
    "\n",
    "    def __call__(self):\n",
    "        print(f\"Hello {self.message}\")\n",
    "\n",
    "\n",
    "greeter = Greeter(\"Amitava\")\n",
    "greeter()"
   ],
   "id": "364b03b72fa78204",
   "outputs": [
    {
     "name": "stdout",
     "output_type": "stream",
     "text": [
      "Hello Amitava\n"
     ]
    }
   ],
   "execution_count": 15
  },
  {
   "metadata": {
    "ExecuteTime": {
     "end_time": "2025-10-16T08:18:20.151139Z",
     "start_time": "2025-10-16T08:18:20.146418Z"
    }
   },
   "cell_type": "code",
   "source": [
    "class DecoratorClass:\n",
    "    def __init__(self, original_function):\n",
    "        self.original_function = original_function\n",
    "\n",
    "    def __call__(self, *args, **kwargs):\n",
    "        print(f\"Calling Decorator class before {self.original_function.__name__}\")\n",
    "        return self.original_function(*args, **kwargs)\n",
    "\n",
    "\n",
    "@DecoratorClass\n",
    "def display3():\n",
    "    print(\"Inside display3\")\n",
    "\n",
    "\n",
    "@DecoratorClass\n",
    "def display_info2(name, age):\n",
    "    print(f\"Inside display_info2 with arguments {name}, {age}\")\n",
    "\n",
    "\n",
    "display3()\n",
    "display_info2(\"Abc\", \"100\")\n",
    "\n",
    "# NOTE -\n",
    "# When @DecoratorClass is applied, Python creates an instance of DecoratorClass,\n",
    "# passing the function as an argument to its constructor (__init__).\n",
    "# That instance (which is callable) replaces the original function name in the namespace.\n",
    "# display3 = DecoratorClass(display3)\n",
    "# display_info2 = DecoratorClass(display_info2)"
   ],
   "id": "8fc618b9fe66a2d6",
   "outputs": [
    {
     "name": "stdout",
     "output_type": "stream",
     "text": [
      "Calling Decorator class before display3\n",
      "Inside display3\n",
      "Calling Decorator class before display_info2\n",
      "Inside display_info2 with arguments Abc, 100\n"
     ]
    }
   ],
   "execution_count": 17
  },
  {
   "metadata": {
    "ExecuteTime": {
     "end_time": "2025-10-16T12:46:28.816353Z",
     "start_time": "2025-10-16T12:46:27.804300Z"
    }
   },
   "cell_type": "code",
   "source": [
    "# Practical Example of decorators - timing how long a function ran\n",
    "\n",
    "\n",
    "def timing_decorator(original_function):\n",
    "    def timing_wrapper_function(*args, **kwargs):\n",
    "        t1 = time.time()\n",
    "        result = original_function(*args, **kwargs)\n",
    "        t2 = time.time() - t1\n",
    "        print(f\"function {original_function.__name__} ran in {round(t2, 3)} seconds\")\n",
    "        return result\n",
    "\n",
    "    return timing_wrapper_function\n",
    "\n",
    "\n",
    "@timing_decorator\n",
    "def sample_function():\n",
    "    time.sleep(1)\n",
    "    return \"Done executing\"\n",
    "\n",
    "\n",
    "returned_value = sample_function()\n",
    "print(returned_value)\n",
    "\n"
   ],
   "id": "95c9b4592419166",
   "outputs": [
    {
     "name": "stdout",
     "output_type": "stream",
     "text": [
      "function sample_function ran in 1.005 seconds\n",
      "Done executing\n"
     ]
    }
   ],
   "execution_count": 25
  },
  {
   "metadata": {
    "ExecuteTime": {
     "end_time": "2025-10-16T12:46:29.916221Z",
     "start_time": "2025-10-16T12:46:29.912507Z"
    }
   },
   "cell_type": "code",
   "source": [
    "# Another example of a decorator\n",
    "import logging\n",
    "\n",
    "\n",
    "def logging_decorator(original_function):\n",
    "    logging.basicConfig(filename=\"sample.log\", level=logging.INFO)\n",
    "\n",
    "    def logging_wrapper_function(*args, **kwargs):\n",
    "        logging.info(f\"Executing function {original_function.__name__}\")\n",
    "        return original_function(*args, **kwargs)\n",
    "\n",
    "    return logging_wrapper_function\n",
    "\n",
    "\n",
    "@logging_decorator\n",
    "def sample_function():\n",
    "    print(\"Inside sample function...\")\n",
    "\n",
    "\n",
    "sample_function()\n",
    "\n"
   ],
   "id": "da524abc97d569fb",
   "outputs": [
    {
     "name": "stdout",
     "output_type": "stream",
     "text": [
      "Inside sample function...\n"
     ]
    }
   ],
   "execution_count": 26
  },
  {
   "metadata": {
    "ExecuteTime": {
     "end_time": "2025-10-16T12:48:45.887117Z",
     "start_time": "2025-10-16T12:48:45.884504Z"
    }
   },
   "cell_type": "code",
   "source": [
    "# If using two decorators\n",
    "@logging_decorator\n",
    "@timing_decorator\n",
    "def another_sample_function():\n",
    "    print(\"Inside another sample function..\")\n",
    "\n",
    "\n",
    "another_sample_function()\n",
    "\n",
    "# Issue with using 2 decorators - The log would be - Executing function timing_wrapper_function\n",
    "# Because :\n",
    "# another_sample_function = logging_decorator(timing_decorator(another_sample_function))"
   ],
   "id": "462ace96d59f09cf",
   "outputs": [
    {
     "name": "stdout",
     "output_type": "stream",
     "text": [
      "Inside another sample function..\n",
      "function another_sample_function ran in 0.0 seconds\n"
     ]
    }
   ],
   "execution_count": 28
  },
  {
   "metadata": {
    "ExecuteTime": {
     "end_time": "2025-10-16T15:05:49.651994Z",
     "start_time": "2025-10-16T15:05:48.644709Z"
    }
   },
   "cell_type": "code",
   "source": [
    "import time\n",
    "from functools import wraps\n",
    "\n",
    "\n",
    "# How to solve this issue\n",
    "def logging_decorator4(original_function):\n",
    "    @wraps(original_function)\n",
    "    def logging_wrapper(*args, **kwargs):\n",
    "        logging.basicConfig(filename=\"sample.log\", level=logging.INFO)\n",
    "        logging.info(f\"Executing function {original_function.__name__} with args {args} and keyword args {kwargs}\")\n",
    "        return original_function(*args, **kwargs)\n",
    "\n",
    "    return logging_wrapper\n",
    "\n",
    "\n",
    "def timing_decorator4(original_function):\n",
    "    @wraps(original_function)\n",
    "    def timing_wrapper(*args, **kwargs):\n",
    "        t1 = time.time()\n",
    "        result = original_function(*args, **kwargs)\n",
    "        t2 = time.time() - t1\n",
    "        print(f\"Time taken to execute {original_function.__name__} is {round(t2, 3)} seconds.\")\n",
    "        return result\n",
    "\n",
    "    return timing_wrapper\n",
    "\n",
    "\n",
    "@logging_decorator4\n",
    "@timing_decorator4\n",
    "def display4_info(name, age):\n",
    "    time.sleep(1)\n",
    "    print(f\"Inside display4_info. Args - {name}, {age}\")\n",
    "\n",
    "\n",
    "display4_info(\"Sam\", \"100\")\n"
   ],
   "id": "2a44c7badbef5780",
   "outputs": [
    {
     "name": "stdout",
     "output_type": "stream",
     "text": [
      "Inside display4_info. Args - Sam, 100\n",
      "Time taken to execute display4_info is 1.001 seconds.\n"
     ]
    }
   ],
   "execution_count": 37
  },
  {
   "metadata": {
    "ExecuteTime": {
     "end_time": "2025-10-16T15:41:38.530234Z",
     "start_time": "2025-10-16T15:41:38.526731Z"
    }
   },
   "cell_type": "code",
   "source": [
    "# wraps() - Make the wrapper function look like the original function it’s decorating.\n",
    "# @wraps copies important metadata (like name, docstring, annotations) from original function to wrapper.\n",
    "def my_decorator(original_function):\n",
    "    def my_wrapper():\n",
    "        return original_function()\n",
    "\n",
    "    return my_wrapper\n",
    "\n",
    "\n",
    "@my_decorator\n",
    "def say_hello():\n",
    "    \"\"\"say hello!\"\"\"\n",
    "    print(\"hello\")\n",
    "\n",
    "\n",
    "print(say_hello.__name__)\n",
    "print(say_hello.__doc__)\n",
    "\n",
    "# Output:\n",
    "# my_wrapper\n",
    "# None\n",
    "#\n",
    "# That’s wrong — say_hello should still appear as say_hello, not wrapper. @wraps() fixes this."
   ],
   "id": "6bfbf889e37bc755",
   "outputs": [
    {
     "name": "stdout",
     "output_type": "stream",
     "text": [
      "my_wrapper\n",
      "None\n"
     ]
    }
   ],
   "execution_count": 38
  },
  {
   "metadata": {
    "ExecuteTime": {
     "end_time": "2025-10-16T15:46:05.498607Z",
     "start_time": "2025-10-16T15:46:05.495341Z"
    }
   },
   "cell_type": "code",
   "source": [
    "# functools.wraps() internally does: update_wrapper(wrapper, original_function)\n",
    "# and that copies: __name__, __doc___, __module__ & other metadata\n",
    "# So when debugging, profiling, or introspecting functions (like in help(), or logging), the correct metadata shows up.\n",
    "\n",
    "def my_decorator_v2(original_function):\n",
    "    @wraps(original_function)\n",
    "    def my_wrapper(*args, **kwargs):\n",
    "        return original_function(*args, **kwargs)\n",
    "\n",
    "    return my_wrapper\n",
    "\n",
    "\n",
    "@my_decorator_v2\n",
    "def say_hello_v2():\n",
    "    \"\"\"say hello!\"\"\"\n",
    "    print(\"say hello!\")\n",
    "\n",
    "\n",
    "print(say_hello_v2.__name__)\n",
    "print(say_hello_v2.__doc__)"
   ],
   "id": "acf219c2c0d78db2",
   "outputs": [
    {
     "name": "stdout",
     "output_type": "stream",
     "text": [
      "say_hello_v2\n",
      "say hello!\n"
     ]
    }
   ],
   "execution_count": 41
  },
  {
   "metadata": {},
   "cell_type": "code",
   "outputs": [],
   "execution_count": null,
   "source": "",
   "id": "1522a62e2fcd8348"
  }
 ],
 "metadata": {
  "kernelspec": {
   "display_name": "Python 3",
   "language": "python",
   "name": "python3"
  },
  "language_info": {
   "codemirror_mode": {
    "name": "ipython",
    "version": 2
   },
   "file_extension": ".py",
   "mimetype": "text/x-python",
   "name": "python",
   "nbconvert_exporter": "python",
   "pygments_lexer": "ipython2",
   "version": "2.7.6"
  }
 },
 "nbformat": 4,
 "nbformat_minor": 5
}
