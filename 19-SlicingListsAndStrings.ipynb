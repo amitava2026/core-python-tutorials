{
 "cells": [
  {
   "metadata": {
    "ExecuteTime": {
     "end_time": "2025-10-13T17:19:14.474943Z",
     "start_time": "2025-10-13T17:19:14.471473Z"
    }
   },
   "cell_type": "code",
   "source": [
    "# Slicing - is used to extract elements from iterables.\n",
    "# Slicing ALWAYS returns a new iterable\n",
    "# list[start:end:step]\n",
    "# NOTE : \"end\" is non-inclusive\n",
    "\n",
    "my_list = [0, 1, 2, 3, 4, 5, 6, 7, 8, 9]"
   ],
   "id": "a5eec69c1ac4828a",
   "outputs": [],
   "execution_count": 1
  },
  {
   "metadata": {
    "ExecuteTime": {
     "end_time": "2025-10-13T17:19:19.565554Z",
     "start_time": "2025-10-13T17:19:19.562140Z"
    }
   },
   "cell_type": "code",
   "source": [
    "print(my_list[-1])\n",
    "print(my_list[-10])"
   ],
   "id": "63c0b2d15549d4da",
   "outputs": [
    {
     "name": "stdout",
     "output_type": "stream",
     "text": [
      "9\n",
      "0\n"
     ]
    }
   ],
   "execution_count": 2
  },
  {
   "metadata": {
    "ExecuteTime": {
     "end_time": "2025-10-13T17:19:21.604863Z",
     "start_time": "2025-10-13T17:19:21.598822Z"
    }
   },
   "cell_type": "code",
   "source": "my_list[0:5]  # \"end\" is non-inclusive",
   "id": "af8001ebfccde4c1",
   "outputs": [
    {
     "data": {
      "text/plain": [
       "[0, 1, 2, 3, 4]"
      ]
     },
     "execution_count": 3,
     "metadata": {},
     "output_type": "execute_result"
    }
   ],
   "execution_count": 3
  },
  {
   "metadata": {
    "ExecuteTime": {
     "end_time": "2025-10-13T17:19:22.610736Z",
     "start_time": "2025-10-13T17:19:22.608233Z"
    }
   },
   "cell_type": "code",
   "source": [
    "# get values - 3 thru 7\n",
    "my_list[3:8]"
   ],
   "id": "36bec9029a0302d",
   "outputs": [
    {
     "data": {
      "text/plain": [
       "[3, 4, 5, 6, 7]"
      ]
     },
     "execution_count": 4,
     "metadata": {},
     "output_type": "execute_result"
    }
   ],
   "execution_count": 4
  },
  {
   "metadata": {
    "ExecuteTime": {
     "end_time": "2025-10-13T10:44:43.612278Z",
     "start_time": "2025-10-13T10:44:43.609384Z"
    }
   },
   "cell_type": "code",
   "source": [
    "# you can also match positive and negative indexes\n",
    "# the above result can be obtained by :\n",
    "new_list = my_list[-7:-2]\n",
    "print(new_list)"
   ],
   "id": "89e746ce1cb0a8e4",
   "outputs": [
    {
     "name": "stdout",
     "output_type": "stream",
     "text": [
      "[3, 4, 5, 6, 7]\n"
     ]
    }
   ],
   "execution_count": 17
  },
  {
   "metadata": {
    "ExecuteTime": {
     "end_time": "2025-10-13T10:44:44.159574Z",
     "start_time": "2025-10-13T10:44:44.156569Z"
    }
   },
   "cell_type": "code",
   "source": [
    "# 1 thru 7\n",
    "new_list = my_list[1:-2]\n",
    "print(new_list)"
   ],
   "id": "486a4b9c2b73dcd3",
   "outputs": [
    {
     "name": "stdout",
     "output_type": "stream",
     "text": [
      "[1, 2, 3, 4, 5, 6, 7]\n"
     ]
    }
   ],
   "execution_count": 18
  },
  {
   "metadata": {
    "ExecuteTime": {
     "end_time": "2025-10-13T10:44:44.711541Z",
     "start_time": "2025-10-13T10:44:44.708419Z"
    }
   },
   "cell_type": "code",
   "source": [
    "# you can leave of \"start\" or \"end\"\n",
    "print(my_list[2:])\n",
    "print(my_list[:-1])"
   ],
   "id": "7c79c5fe8eb22606",
   "outputs": [
    {
     "name": "stdout",
     "output_type": "stream",
     "text": [
      "[2, 3, 4, 5, 6, 7, 8, 9]\n",
      "[0, 1, 2, 3, 4, 5, 6, 7, 8]\n"
     ]
    }
   ],
   "execution_count": 19
  },
  {
   "metadata": {
    "ExecuteTime": {
     "end_time": "2025-10-13T10:44:54.248765Z",
     "start_time": "2025-10-13T10:44:54.245855Z"
    }
   },
   "cell_type": "code",
   "source": [
    "# to get a copy of the entire list\n",
    "new_list = my_list[:]\n",
    "print(new_list)"
   ],
   "id": "cee1c98565472b0f",
   "outputs": [
    {
     "name": "stdout",
     "output_type": "stream",
     "text": [
      "[0, 1, 2, 3, 4, 5, 6, 7, 8, 9]\n"
     ]
    }
   ],
   "execution_count": 21
  },
  {
   "metadata": {
    "ExecuteTime": {
     "end_time": "2025-10-13T10:48:25.661396Z",
     "start_time": "2025-10-13T10:48:25.658415Z"
    }
   },
   "cell_type": "code",
   "source": [
    "# \"step\" allows us to move forward by that many steps . EG - \"move forward by 2 positions\"\n",
    "new_list = my_list[2:-1:2]\n",
    "print(new_list)"
   ],
   "id": "63cef8440f8272b8",
   "outputs": [
    {
     "name": "stdout",
     "output_type": "stream",
     "text": [
      "[2, 4, 6, 8]\n"
     ]
    }
   ],
   "execution_count": 22
  },
  {
   "metadata": {
    "ExecuteTime": {
     "end_time": "2025-10-13T11:39:43.943784Z",
     "start_time": "2025-10-13T11:39:43.940186Z"
    }
   },
   "cell_type": "code",
   "source": [
    "# You can also do a -ve step. when you use a negative step, you're moving backwards through the list.\n",
    "# For this to work, your start index must be greater than your stop index.\n",
    "# Below code means Start at index 2. Try to go backwards (step = -1) .Stop at index 9. THIS IS NOT POSSIBLE hence empty list\n",
    "my_list[2:9:-1]"
   ],
   "id": "a0390ac69dd681d5",
   "outputs": [
    {
     "data": {
      "text/plain": [
       "[]"
      ]
     },
     "execution_count": 23,
     "metadata": {},
     "output_type": "execute_result"
    }
   ],
   "execution_count": 23
  },
  {
   "metadata": {
    "ExecuteTime": {
     "end_time": "2025-10-13T11:45:43.035414Z",
     "start_time": "2025-10-13T11:45:43.031787Z"
    }
   },
   "cell_type": "code",
   "source": [
    "#Rule of Thumb:\n",
    "# Positive step → start < stop (move forward)\n",
    "# Negative step → start > stop (move backward)\n",
    "print(my_list[9:2:-1])\n",
    "print(my_list[-1:2:-1])"
   ],
   "id": "bdcfd05cdebc6148",
   "outputs": [
    {
     "name": "stdout",
     "output_type": "stream",
     "text": [
      "[9, 8, 7, 6, 5, 4, 3]\n",
      "[9, 8, 7, 6, 5, 4, 3]\n"
     ]
    }
   ],
   "execution_count": 26
  },
  {
   "metadata": {
    "ExecuteTime": {
     "end_time": "2025-10-13T11:48:19.703555Z",
     "start_time": "2025-10-13T11:48:19.700468Z"
    }
   },
   "cell_type": "code",
   "source": [
    "# to reverse the entire list, use any of the below code\n",
    "print(my_list[-1::-1])\n",
    "print(my_list[::-1])"
   ],
   "id": "a410c4d4584c5398",
   "outputs": [
    {
     "name": "stdout",
     "output_type": "stream",
     "text": [
      "[9, 8, 7, 6, 5, 4, 3, 2, 1, 0]\n",
      "[9, 8, 7, 6, 5, 4, 3, 2, 1, 0]\n"
     ]
    }
   ],
   "execution_count": 28
  },
  {
   "metadata": {
    "ExecuteTime": {
     "end_time": "2025-10-13T11:50:48.661577Z",
     "start_time": "2025-10-13T11:50:48.658520Z"
    }
   },
   "cell_type": "code",
   "source": [
    "# SLICING STRINGS - possible since strings are iterables\n",
    "sample_url = \"http://coreyms.com\"\n",
    "print(sample_url)"
   ],
   "id": "5f9f83e71690e12c",
   "outputs": [
    {
     "name": "stdout",
     "output_type": "stream",
     "text": [
      "http://coreyms.com\n"
     ]
    }
   ],
   "execution_count": 29
  },
  {
   "metadata": {
    "ExecuteTime": {
     "end_time": "2025-10-13T11:51:27.087198Z",
     "start_time": "2025-10-13T11:51:27.084389Z"
    }
   },
   "cell_type": "code",
   "source": [
    "# reverse the url:\n",
    "sample_url[::-1]"
   ],
   "id": "c92f343f7a22dd94",
   "outputs": [
    {
     "data": {
      "text/plain": [
       "'moc.smyeroc//:ptth'"
      ]
     },
     "execution_count": 30,
     "metadata": {},
     "output_type": "execute_result"
    }
   ],
   "execution_count": 30
  },
  {
   "metadata": {
    "ExecuteTime": {
     "end_time": "2025-10-13T11:57:30.692550Z",
     "start_time": "2025-10-13T11:57:30.688855Z"
    }
   },
   "cell_type": "code",
   "source": [
    "# get the top level domain (TLD). Common TLDs include .com, .org, .net, .edu, .gov\n",
    "sample_url[-4:]  # this works because by default step is +1."
   ],
   "id": "201319e6b5ef9487",
   "outputs": [
    {
     "data": {
      "text/plain": [
       "'.com'"
      ]
     },
     "execution_count": 33,
     "metadata": {},
     "output_type": "execute_result"
    }
   ],
   "execution_count": 33
  },
  {
   "metadata": {
    "ExecuteTime": {
     "end_time": "2025-10-13T11:52:54.826542Z",
     "start_time": "2025-10-13T11:52:54.823685Z"
    }
   },
   "cell_type": "code",
   "source": [
    "# print the url without the 'http://'\n",
    "sample_url[7:]"
   ],
   "id": "2e8aa9e34f22474",
   "outputs": [
    {
     "data": {
      "text/plain": [
       "'coreyms.com'"
      ]
     },
     "execution_count": 32,
     "metadata": {},
     "output_type": "execute_result"
    }
   ],
   "execution_count": 32
  },
  {
   "metadata": {
    "ExecuteTime": {
     "end_time": "2025-10-13T12:00:54.791555Z",
     "start_time": "2025-10-13T12:00:54.788500Z"
    }
   },
   "cell_type": "code",
   "source": [
    "# print the url without the http:// or the top level domain(TLD)\n",
    "sample_url[7:-4]"
   ],
   "id": "a442c2b5f0da4613",
   "outputs": [
    {
     "data": {
      "text/plain": [
       "'coreyms'"
      ]
     },
     "execution_count": 34,
     "metadata": {},
     "output_type": "execute_result"
    }
   ],
   "execution_count": 34
  },
  {
   "metadata": {},
   "cell_type": "code",
   "outputs": [],
   "execution_count": null,
   "source": "",
   "id": "1ac398fd40b1ce64"
  }
 ],
 "metadata": {
  "kernelspec": {
   "display_name": "Python 3",
   "language": "python",
   "name": "python3"
  },
  "language_info": {
   "codemirror_mode": {
    "name": "ipython",
    "version": 2
   },
   "file_extension": ".py",
   "mimetype": "text/x-python",
   "name": "python",
   "nbconvert_exporter": "python",
   "pygments_lexer": "ipython2",
   "version": "2.7.6"
  }
 },
 "nbformat": 4,
 "nbformat_minor": 5
}
