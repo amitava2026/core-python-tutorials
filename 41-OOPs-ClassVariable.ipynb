{
 "cells": [
  {
   "cell_type": "code",
   "id": "initial_id",
   "metadata": {
    "collapsed": true,
    "ExecuteTime": {
     "end_time": "2025-10-18T06:45:00.541901Z",
     "start_time": "2025-10-18T06:45:00.537502Z"
    }
   },
   "source": [
    "# Class variables are shared across all instances of a class\n",
    "# Instance variables are unique to each instance\n",
    "\n",
    "class Employee:\n",
    "    raise_amount = 1.04\n",
    "\n",
    "    def __init__(self, first, last, pay):\n",
    "        self.first = first\n",
    "        self.last = last\n",
    "        self.pay = pay\n",
    "\n",
    "    def full_name(self):\n",
    "        return f\"{self.first} {self.last}\"\n",
    "\n",
    "    def apply_raise(self):\n",
    "        # self.pay = int(self.pay * raise_amount)\n",
    "        # Above code will raise a NameError stating - name 'raise_amount' is not defined\n",
    "        self.pay = int(self.pay * Employee.raise_amount)\n",
    "        return self.pay\n",
    "\n",
    "\n",
    "emp1 = Employee(\"John\", \"Doe\", 50_000)\n",
    "print(emp1.apply_raise())\n",
    "print(Employee.raise_amount)"
   ],
   "outputs": [
    {
     "name": "stdout",
     "output_type": "stream",
     "text": [
      "52000\n",
      "1.04\n"
     ]
    }
   ],
   "execution_count": 29
  },
  {
   "metadata": {
    "ExecuteTime": {
     "end_time": "2025-10-18T06:45:01.545443Z",
     "start_time": "2025-10-18T06:45:01.542579Z"
    }
   },
   "cell_type": "code",
   "source": [
    "# __dict__ is a dictionary that Python uses to store an object's attributes & methods.\n",
    "# Both classes and instances have their own __dict__ that stores their respective attributes & methods.\n",
    "print(Employee.__dict__, \"\\n\")\n",
    "print(emp1.__dict__)  # Notice 'raise_amount': 1.04 is missing from the __dict__ object of 'emp1'"
   ],
   "id": "f8067ef3765aee8",
   "outputs": [
    {
     "name": "stdout",
     "output_type": "stream",
     "text": [
      "{'__module__': '__main__', 'raise_amount': 1.04, '__init__': <function Employee.__init__ at 0x30639b2e0>, 'full_name': <function Employee.full_name at 0x30639b100>, 'apply_raise': <function Employee.apply_raise at 0x30639a980>, '__dict__': <attribute '__dict__' of 'Employee' objects>, '__weakref__': <attribute '__weakref__' of 'Employee' objects>, '__doc__': None} \n",
      "\n",
      "{'first': 'John', 'last': 'Doe', 'pay': 52000}\n"
     ]
    }
   ],
   "execution_count": 30
  },
  {
   "metadata": {
    "ExecuteTime": {
     "end_time": "2025-10-18T06:46:43.488906Z",
     "start_time": "2025-10-18T06:46:43.486889Z"
    }
   },
   "cell_type": "code",
   "source": [
    "# Attribute Lookup\n",
    "# When you access emp1.raise_amount, Python follows this process:\n",
    "#\n",
    "# First, check the instance __dict__: Does emp1.__dict__ have 'raise_amount'? -> No\n",
    "# Then, check the class __dict__: Does Employee.__dict__ have 'raise_amount'? -> Yes! Return 1.04\n",
    "print(emp1.raise_amount)\n"
   ],
   "id": "ccb25c86eff0b005",
   "outputs": [
    {
     "name": "stdout",
     "output_type": "stream",
     "text": [
      "1.1\n"
     ]
    }
   ],
   "execution_count": 37
  },
  {
   "metadata": {
    "ExecuteTime": {
     "end_time": "2025-10-18T06:46:44.694048Z",
     "start_time": "2025-10-18T06:46:44.690785Z"
    }
   },
   "cell_type": "code",
   "source": [
    "emp1 = Employee(\"Alice\", \"Brown\", 50000)\n",
    "emp2 = Employee(\"Bob\", \"Marley\", 60000)\n",
    "\n",
    "# All instances share the class variable\n",
    "print(emp1.raise_amount)  # 1.04 (from class)\n",
    "print(emp2.raise_amount)  # 1.04 (from class)"
   ],
   "id": "364976f7a29e2d61",
   "outputs": [
    {
     "name": "stdout",
     "output_type": "stream",
     "text": [
      "3\n",
      "3\n"
     ]
    }
   ],
   "execution_count": 38
  },
  {
   "metadata": {
    "ExecuteTime": {
     "end_time": "2025-10-18T06:52:45.098587Z",
     "start_time": "2025-10-18T06:52:45.094975Z"
    }
   },
   "cell_type": "code",
   "source": [
    "# Now let's modify the instance\n",
    "emp1.raise_amount = 1.10\n",
    "\n",
    "# Check __dict__ again\n",
    "print(emp1.__dict__)  # {'first': 'Alice', 'last': 'Brown', 'pay': 50000, 'raise_amount': 1.1}\n",
    "print(emp2.__dict__)  # {'first': 'Bob', 'last': 'Marley', 'pay': 60000}"
   ],
   "id": "74057a18074d9ea8",
   "outputs": [
    {
     "name": "stdout",
     "output_type": "stream",
     "text": [
      "{'first': 'Alice', 'last': 'Brown', 'pay': 150000, 'raise_amount': 1.1}\n",
      "{'first': 'Bob', 'last': 'Marley', 'pay': 60000}\n"
     ]
    }
   ],
   "execution_count": 43
  },
  {
   "metadata": {
    "ExecuteTime": {
     "end_time": "2025-10-18T06:46:46.260440Z",
     "start_time": "2025-10-18T06:46:46.258423Z"
    }
   },
   "cell_type": "code",
   "source": [
    "# Now emp1 has its own raise_amount\n",
    "print(emp1.raise_amount)  # 1.10 (from instance)\n",
    "print(emp2.raise_amount)  # 1.04 (from class)"
   ],
   "id": "c87d6c3d2048c329",
   "outputs": [
    {
     "name": "stdout",
     "output_type": "stream",
     "text": [
      "1.1\n",
      "3\n"
     ]
    }
   ],
   "execution_count": 40
  },
  {
   "metadata": {
    "ExecuteTime": {
     "end_time": "2025-10-18T06:46:47.482555Z",
     "start_time": "2025-10-18T06:46:47.479792Z"
    }
   },
   "cell_type": "code",
   "source": [
    "# Modify the class variable\n",
    "Employee.raise_amount = 3\n",
    "\n",
    "print(emp1.raise_amount)  # 1.10 (still from instance)\n",
    "print(emp2.raise_amount)  # 3 (updated from class)"
   ],
   "id": "2510e2641dee5949",
   "outputs": [
    {
     "name": "stdout",
     "output_type": "stream",
     "text": [
      "1.1\n",
      "3\n"
     ]
    }
   ],
   "execution_count": 41
  },
  {
   "metadata": {
    "ExecuteTime": {
     "end_time": "2025-10-18T06:46:48.393426Z",
     "start_time": "2025-10-18T06:46:48.390743Z"
    }
   },
   "cell_type": "code",
   "source": [
    "# However if you call apply_raise() on emp1, it will use the class variable 'raise_amount' whose value is 3 now\n",
    "# This is because you have used Employee.raise_amount in the apply_raise() method\n",
    "print(emp1.pay)\n",
    "print(emp1.apply_raise())"
   ],
   "id": "809b2a621202283c",
   "outputs": [
    {
     "name": "stdout",
     "output_type": "stream",
     "text": [
      "50000\n",
      "150000\n"
     ]
    }
   ],
   "execution_count": 42
  },
  {
   "metadata": {
    "ExecuteTime": {
     "end_time": "2025-10-18T07:03:39.627057Z",
     "start_time": "2025-10-18T07:03:39.622503Z"
    }
   },
   "cell_type": "code",
   "source": [
    "# If you want each individual instances to have their own custom raise_amount if needed,\n",
    "# while still defaulting to the class variable.\n",
    "# Use 'self.raise_amount' instead of 'Employee.raise_amount' in the apply_raise() method\n",
    "# This gives flexibility. (This is a common practice in the python community)\n",
    "# However, we don't need this flexibility with NO_OF_EMPLOYEES\n",
    "class EmployeeFlexibility:\n",
    "    # UPPERCASE = \"Don't override this\"\n",
    "    NO_OF_EMPLOYEES = 0\n",
    "\n",
    "    # lowercase = \"Okay to customize per instance\"\n",
    "    raise_amount = 1.05\n",
    "\n",
    "    def __init__(self, name, pay):\n",
    "        self.name = name\n",
    "        self.pay = pay\n",
    "        EmployeeFlexibility.NO_OF_EMPLOYEES += 1\n",
    "\n",
    "    def apply_raise(self):\n",
    "        self.pay = int(self.pay * self.raise_amount)  # NOTE: self.raise_amount is used instead of Employee.raise_amount\n",
    "        return self.pay\n",
    "\n",
    "\n",
    "emp1 = EmployeeFlexibility(\"Top Performer\", 50_000)\n",
    "emp2 = EmployeeFlexibility(\"Average Performer\", 50_000)\n",
    "\n",
    "emp1.raise_amount = 3\n",
    "print(emp1.apply_raise())\n",
    "print(emp2.apply_raise(), \"\\n\")\n",
    "\n",
    "print(emp1.NO_OF_EMPLOYEES)\n",
    "print(emp2.NO_OF_EMPLOYEES)\n",
    "print(EmployeeFlexibility.NO_OF_EMPLOYEES)"
   ],
   "id": "f655b9103f4400e2",
   "outputs": [
    {
     "name": "stdout",
     "output_type": "stream",
     "text": [
      "150000\n",
      "52500 \n",
      "\n",
      "2\n",
      "2\n",
      "2\n"
     ]
    }
   ],
   "execution_count": 46
  },
  {
   "metadata": {},
   "cell_type": "code",
   "outputs": [],
   "execution_count": null,
   "source": "",
   "id": "278b3d161e6bc427"
  }
 ],
 "metadata": {
  "kernelspec": {
   "display_name": "Python 3",
   "language": "python",
   "name": "python3"
  },
  "language_info": {
   "codemirror_mode": {
    "name": "ipython",
    "version": 2
   },
   "file_extension": ".py",
   "mimetype": "text/x-python",
   "name": "python",
   "nbconvert_exporter": "python",
   "pygments_lexer": "ipython2",
   "version": "2.7.6"
  }
 },
 "nbformat": 4,
 "nbformat_minor": 5
}
