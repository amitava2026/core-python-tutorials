{
 "cells": [
  {
   "cell_type": "code",
   "id": "initial_id",
   "metadata": {
    "collapsed": true,
    "ExecuteTime": {
     "end_time": "2025-10-17T10:23:55.417740Z",
     "start_time": "2025-10-17T10:23:55.414296Z"
    }
   },
   "source": [
    "# try:\n",
    "#     pass\n",
    "# except Exception:\n",
    "#     pass\n",
    "# else:\n",
    "#     pass\n",
    "# finally:\n",
    "#     pass\n"
   ],
   "outputs": [],
   "execution_count": 1
  },
  {
   "metadata": {
    "ExecuteTime": {
     "end_time": "2025-10-17T10:28:17.857787Z",
     "start_time": "2025-10-17T10:28:17.855233Z"
    }
   },
   "cell_type": "code",
   "source": [
    "from wsgiref.validate import bad_header_value_re\n",
    "\n",
    "try:\n",
    "    f = open(\"some-file.txt\")\n",
    "except FileNotFoundError:\n",
    "    print(\"Sorry, this file does not exist\")\n"
   ],
   "id": "2a345ccf0b981bdb",
   "outputs": [
    {
     "name": "stdout",
     "output_type": "stream",
     "text": [
      "Sorry, this file does not exist\n"
     ]
    }
   ],
   "execution_count": 4
  },
  {
   "metadata": {
    "ExecuteTime": {
     "end_time": "2025-10-17T10:29:24.692956Z",
     "start_time": "2025-10-17T10:29:24.690061Z"
    }
   },
   "cell_type": "code",
   "source": [
    "try:\n",
    "    f = open(\"test.txt\")\n",
    "    var = bad_var\n",
    "except FileNotFoundError:\n",
    "    print(\"Sorry, file does not exist\")\n",
    "except Exception:\n",
    "    print(\"Sorry, something went wrong\")"
   ],
   "id": "56ef41b023a5ef10",
   "outputs": [
    {
     "name": "stdout",
     "output_type": "stream",
     "text": [
      "Sorry, something went wrong\n"
     ]
    }
   ],
   "execution_count": 5
  },
  {
   "metadata": {
    "ExecuteTime": {
     "end_time": "2025-10-17T10:35:37.434086Z",
     "start_time": "2025-10-17T10:35:37.431387Z"
    }
   },
   "cell_type": "code",
   "source": [
    "# Print the actual exception\n",
    "try:\n",
    "    f = open(\"test.txt\")\n",
    "    var = bad_var\n",
    "except FileNotFoundError as e:\n",
    "    print(e)\n",
    "except Exception as e:\n",
    "    print(e)"
   ],
   "id": "a67c12d75192ea9b",
   "outputs": [
    {
     "name": "stdout",
     "output_type": "stream",
     "text": [
      "name 'bad_var' is not defined\n"
     ]
    }
   ],
   "execution_count": 6
  },
  {
   "metadata": {
    "ExecuteTime": {
     "end_time": "2025-10-17T10:40:30.124477Z",
     "start_time": "2025-10-17T10:40:30.120658Z"
    }
   },
   "cell_type": "code",
   "source": [
    "# Else would be executed if the try block does not raise any exception\n",
    "try:\n",
    "    f = open(\"test.txt\")\n",
    "except FileNotFoundError as e:\n",
    "    print(e)\n",
    "else:\n",
    "    print(f.read())\n",
    "    f.close()"
   ],
   "id": "11309cebdfc3b7b4",
   "outputs": [
    {
     "name": "stdout",
     "output_type": "stream",
     "text": [
      "1) This is a test file\n",
      "2) With multiple lines of data...\n",
      "3) Third line\n",
      "4) Fourth line\n",
      "5) Fifth line\n",
      "6) Sixth line\n",
      "7) Seventh line\n",
      "8) Eighth line\n",
      "9) Ninth line\n",
      "10) Tenth line\n"
     ]
    }
   ],
   "execution_count": 7
  },
  {
   "metadata": {
    "ExecuteTime": {
     "end_time": "2025-10-17T11:33:42.684582Z",
     "start_time": "2025-10-17T11:33:42.682647Z"
    }
   },
   "cell_type": "code",
   "source": [
    "# finally runs no matter what - whether we get an exception or don't\n",
    "try:\n",
    "    f = open('test.txt')\n",
    "except FileNotFoundError as e:\n",
    "    print(e)\n",
    "finally:\n",
    "    f.close()"
   ],
   "id": "3dc47616fb6f6cbf",
   "outputs": [],
   "execution_count": 8
  },
  {
   "metadata": {
    "ExecuteTime": {
     "end_time": "2025-10-17T11:55:19.638201Z",
     "start_time": "2025-10-17T11:55:19.633898Z"
    }
   },
   "cell_type": "code",
   "source": [
    "# to raise exceptions\n",
    "try:\n",
    "    f = open('test.txt')\n",
    "    raise Exception\n",
    "except FileNotFoundError as e:\n",
    "    print(e)\n",
    "except Exception as e:\n",
    "    print('Error')\n"
   ],
   "id": "3ea006fc32156f01",
   "outputs": [
    {
     "name": "stdout",
     "output_type": "stream",
     "text": [
      "Error\n"
     ]
    }
   ],
   "execution_count": 12
  },
  {
   "metadata": {},
   "cell_type": "code",
   "outputs": [],
   "execution_count": null,
   "source": "",
   "id": "37e82609af4a95e6"
  }
 ],
 "metadata": {
  "kernelspec": {
   "display_name": "Python 3",
   "language": "python",
   "name": "python3"
  },
  "language_info": {
   "codemirror_mode": {
    "name": "ipython",
    "version": 2
   },
   "file_extension": ".py",
   "mimetype": "text/x-python",
   "name": "python",
   "nbconvert_exporter": "python",
   "pygments_lexer": "ipython2",
   "version": "2.7.6"
  }
 },
 "nbformat": 4,
 "nbformat_minor": 5
}
