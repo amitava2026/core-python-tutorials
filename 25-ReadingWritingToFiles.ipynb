{
 "cells": [
  {
   "cell_type": "code",
   "id": "initial_id",
   "metadata": {
    "collapsed": true,
    "ExecuteTime": {
     "end_time": "2025-10-14T05:17:10.875447Z",
     "start_time": "2025-10-14T05:17:10.871733Z"
    }
   },
   "source": [
    "# by default open() opens a file in read mode. We are just being explicit here\n",
    "# 'w' = write to a file\n",
    "# 'a' = append to a file\n",
    "# 'r+' = read and write to a file\n",
    "f = open('test.txt', 'r')\n",
    "print(f.name)  # print name of the file\n",
    "print(f.mode)  # prints 'r' i.e. file opened in read only mode\n",
    "f.close()  # we need to explicitly close the file"
   ],
   "outputs": [
    {
     "name": "stdout",
     "output_type": "stream",
     "text": [
      "test.txt\n",
      "r\n"
     ]
    }
   ],
   "execution_count": 2
  },
  {
   "metadata": {
    "ExecuteTime": {
     "end_time": "2025-10-14T05:22:36.066158Z",
     "start_time": "2025-10-14T05:22:36.060292Z"
    }
   },
   "cell_type": "code",
   "source": [
    "# opening files using context manager . preferred approach\n",
    "# Once we exit the block, the context manager automatically closes the file for us, even if there are any exceptions thrown\n",
    "# NOTE: you will have access to 'f' variable even after you exit the block, just that the file would be closed\n",
    "# So you cant read from it, python would throw a ValueError - I/O operation on closed file\n",
    "with open('test.txt', 'r') as f:\n",
    "    pass\n",
    "\n",
    "f.closed"
   ],
   "id": "4a1f2fbe6a2e3f25",
   "outputs": [
    {
     "data": {
      "text/plain": [
       "True"
      ]
     },
     "execution_count": 3,
     "metadata": {},
     "output_type": "execute_result"
    }
   ],
   "execution_count": 3
  },
  {
   "metadata": {
    "ExecuteTime": {
     "end_time": "2025-10-14T05:25:31.518918Z",
     "start_time": "2025-10-14T05:25:31.515352Z"
    }
   },
   "cell_type": "code",
   "source": [
    "# read() returns all the content in one go, OK for small files\n",
    "with open('test.txt', 'r') as f:\n",
    "    f_contents = f.read()\n",
    "    print(f_contents)"
   ],
   "id": "402fa9bb48a6a437",
   "outputs": [
    {
     "name": "stdout",
     "output_type": "stream",
     "text": [
      "1) This is a test file\n",
      "2) With multiple lines of data...\n",
      "3) Third line\n",
      "4) Fourth line\n",
      "5) Fifth line\n",
      "6) Sixth line\n",
      "7) Seventh line\n",
      "8) Eighth line\n",
      "9) Ninth line\n",
      "10) Tenth line\n"
     ]
    }
   ],
   "execution_count": 4
  },
  {
   "metadata": {
    "ExecuteTime": {
     "end_time": "2025-10-14T05:27:17.966339Z",
     "start_time": "2025-10-14T05:27:17.962565Z"
    }
   },
   "cell_type": "code",
   "source": [
    "with open('test.txt', 'r') as f:\n",
    "    f_contents = f.readlines()  # returns a list, OK for small files\n",
    "    print(f_contents)"
   ],
   "id": "e51dd3f9e1e3420d",
   "outputs": [
    {
     "name": "stdout",
     "output_type": "stream",
     "text": [
      "['1) This is a test file\\n', '2) With multiple lines of data...\\n', '3) Third line\\n', '4) Fourth line\\n', '5) Fifth line\\n', '6) Sixth line\\n', '7) Seventh line\\n', '8) Eighth line\\n', '9) Ninth line\\n', '10) Tenth line']\n"
     ]
    }
   ],
   "execution_count": 5
  },
  {
   "metadata": {
    "ExecuteTime": {
     "end_time": "2025-10-14T05:29:38.759406Z",
     "start_time": "2025-10-14T05:29:38.756418Z"
    }
   },
   "cell_type": "code",
   "source": [
    "with open('test.txt', 'r') as f:\n",
    "    f_content = f.readline()  # Every time you call readline(), it reads a new line in the file\n",
    "    print(f_content, end='')\n",
    "\n",
    "    f_content = f.readline()\n",
    "    print(f_content, end='')"
   ],
   "id": "9991314f51f482d",
   "outputs": [
    {
     "name": "stdout",
     "output_type": "stream",
     "text": [
      "1) This is a test file\n",
      "2) With multiple lines of data...\n"
     ]
    }
   ],
   "execution_count": 10
  },
  {
   "metadata": {
    "ExecuteTime": {
     "end_time": "2025-10-14T06:08:28.226547Z",
     "start_time": "2025-10-14T06:08:28.222783Z"
    }
   },
   "cell_type": "code",
   "source": [
    "# To read large files one line at a time, without loading the entire content in memory\n",
    "# open() returns a file object\n",
    "# more precisely, an instance of _io.TextIOWrapper (for text mode) or _io.BufferedReader (for binary mode).\n",
    "with open('test.txt', 'r') as f:\n",
    "    for line in f:\n",
    "        print(line, end='')"
   ],
   "id": "5415d6c7879f6a79",
   "outputs": [
    {
     "name": "stdout",
     "output_type": "stream",
     "text": [
      "1) This is a test file\n",
      "2) With multiple lines of data...\n",
      "3) Third line\n",
      "4) Fourth line\n",
      "5) Fifth line\n",
      "6) Sixth line\n",
      "7) Seventh line\n",
      "8) Eighth line\n",
      "9) Ninth line\n",
      "10) Tenth line"
     ]
    }
   ],
   "execution_count": 23
  },
  {
   "metadata": {
    "ExecuteTime": {
     "end_time": "2025-10-14T05:38:16.923371Z",
     "start_time": "2025-10-14T05:38:16.920675Z"
    }
   },
   "cell_type": "code",
   "source": [
    "# By default read() reads the entire content. But we can pass the no. of characters to read at a time\n",
    "# 100 here means 100 characters\n",
    "with open('test.txt', 'r') as f:\n",
    "    f_contents = f.read(100)\n",
    "    print(f_contents)\n",
    "\n",
    "    f_contents = f.read(100)\n",
    "    print(f_contents)\n",
    "\n",
    "    # Nothing happens. Once we reach end of file , read() returns an empty string\n",
    "    f_contents = f.read(100)\n",
    "    print(f_contents)"
   ],
   "id": "ce7aeb836687d5d3",
   "outputs": [
    {
     "name": "stdout",
     "output_type": "stream",
     "text": [
      "1) This is a test file\n",
      "2) With multiple lines of data...\n",
      "3) Third line\n",
      "4) Fourth line\n",
      "5) Fifth line\n",
      "\n",
      "6) Sixth line\n",
      "7) Seventh line\n",
      "8) Eighth line\n",
      "9) Ninth line\n",
      "10) Tenth line\n",
      "\n"
     ]
    }
   ],
   "execution_count": 16
  },
  {
   "metadata": {
    "ExecuteTime": {
     "end_time": "2025-10-14T05:42:03.702801Z",
     "start_time": "2025-10-14T05:42:03.698769Z"
    }
   },
   "cell_type": "code",
   "source": [
    "# To read large files in chunks\n",
    "with open('test.txt', 'r') as f:\n",
    "    size_to_read = 100\n",
    "    file_content = f.read(size_to_read)\n",
    "\n",
    "    # Once we reach end of file , read() returns an empty string\n",
    "    while len(file_content) > 0:\n",
    "        print(file_content, end='')\n",
    "        file_content = f.read(size_to_read)"
   ],
   "id": "a6a5f7fdda2c19bb",
   "outputs": [
    {
     "name": "stdout",
     "output_type": "stream",
     "text": [
      "1) This is a test file\n",
      "2) With multiple lines of data...\n",
      "3) Third line\n",
      "4) Fourth line\n",
      "5) Fifth line\n",
      "6) Sixth line\n",
      "7) Seventh line\n",
      "8) Eighth line\n",
      "9) Ninth line\n",
      "10) Tenth line"
     ]
    }
   ],
   "execution_count": 18
  },
  {
   "metadata": {
    "ExecuteTime": {
     "end_time": "2025-10-14T05:54:45.353063Z",
     "start_time": "2025-10-14T05:54:45.349434Z"
    }
   },
   "cell_type": "code",
   "source": [
    "# To demonstrate that read() can read in chunk , put an asterix after each chunk\n",
    "with open('test.txt', 'r') as f:\n",
    "    size_to_read = 10\n",
    "    file_content = f.read(10)\n",
    "\n",
    "    while len(file_content) > 0:\n",
    "        print(file_content, end='*')\n",
    "        file_content = f.read(10)"
   ],
   "id": "4d8c5f4decc2cfdc",
   "outputs": [
    {
     "name": "stdout",
     "output_type": "stream",
     "text": [
      "1) This is* a test fi*le\n",
      "2) With* multiple *lines of d*ata...\n",
      "3) *Third line*\n",
      "4) Fourth* line\n",
      "5) F*ifth line\n",
      "*6) Sixth l*ine\n",
      "7) Sev*enth line\n",
      "*8) Eighth *line\n",
      "9) Ni*nth line\n",
      "1*0) Tenth l*ine*"
     ]
    }
   ],
   "execution_count": 19
  },
  {
   "metadata": {
    "ExecuteTime": {
     "end_time": "2025-10-14T06:00:01.299247Z",
     "start_time": "2025-10-14T06:00:01.295418Z"
    }
   },
   "cell_type": "code",
   "source": [
    "# To get the current position in the file , use the tell method\n",
    "with open('test.txt', 'r') as f:\n",
    "    size_to_read = 10\n",
    "    f_content = f.read(size_to_read)\n",
    "    print(f.tell())  # prints 10"
   ],
   "id": "5226195e7b233111",
   "outputs": [
    {
     "name": "stdout",
     "output_type": "stream",
     "text": [
      "10\n"
     ]
    }
   ],
   "execution_count": 21
  },
  {
   "metadata": {
    "ExecuteTime": {
     "end_time": "2025-10-14T06:06:28.369078Z",
     "start_time": "2025-10-14T06:06:28.366058Z"
    }
   },
   "cell_type": "code",
   "source": [
    "# We can manipulate our current position in the file, using the seek() method\n",
    "with open('test.txt', 'r') as f:\n",
    "    f_content = f.read(10)\n",
    "    print(f_content, end='')\n",
    "\n",
    "    f.seek(0)  # move the current position(now at 10th character) to beginning of the file again\n",
    "    f_content = f.read(10)\n",
    "    print(f_content)"
   ],
   "id": "c041133a80ffbcd6",
   "outputs": [
    {
     "name": "stdout",
     "output_type": "stream",
     "text": [
      "1) This is1) This is\n"
     ]
    }
   ],
   "execution_count": 22
  },
  {
   "metadata": {
    "ExecuteTime": {
     "end_time": "2025-10-14T08:44:31.573246Z",
     "start_time": "2025-10-14T08:44:31.569813Z"
    }
   },
   "cell_type": "code",
   "source": [
    "# Write to a file\n",
    "# 'w' = writes to a file , over writing it if the file exists\n",
    "# 'a' = appends to an existing file or creates a new file\n",
    "with open('test2.txt', 'w') as f:\n",
    "    f.write('Test')"
   ],
   "id": "82ae84afd041024b",
   "outputs": [],
   "execution_count": 25
  },
  {
   "metadata": {
    "ExecuteTime": {
     "end_time": "2025-10-14T08:47:08.020415Z",
     "start_time": "2025-10-14T08:47:08.017852Z"
    }
   },
   "cell_type": "code",
   "source": [
    "# You don't have to write to a file in order to create it\n",
    "# Following code snippet would create a new file - open() with write mode would create a file\n",
    "with open('test3.txt', 'w') as f:\n",
    "    pass\n"
   ],
   "id": "3e605be8f7096dc0",
   "outputs": [],
   "execution_count": 27
  },
  {
   "metadata": {
    "ExecuteTime": {
     "end_time": "2025-10-14T08:49:16.042650Z",
     "start_time": "2025-10-14T08:49:16.039627Z"
    }
   },
   "cell_type": "code",
   "source": [
    "# Will write Test back to back\n",
    "with open('test2.txt', 'w') as f:\n",
    "    f.write('Test')\n",
    "    f.write('Test')"
   ],
   "id": "1cae716b500497f5",
   "outputs": [],
   "execution_count": 28
  },
  {
   "metadata": {
    "ExecuteTime": {
     "end_time": "2025-10-14T08:52:47.698356Z",
     "start_time": "2025-10-14T08:52:47.695257Z"
    }
   },
   "cell_type": "code",
   "source": [
    "# One can use seek() to set positions while writing to the file\n",
    "with open('test2.txt', 'w') as f:\n",
    "    f.write('Test')\n",
    "    f.seek(0)\n",
    "    f.write('R')  # File would contain the word 'Rest'"
   ],
   "id": "deaed3065d4c9303",
   "outputs": [],
   "execution_count": 31
  },
  {
   "metadata": {
    "ExecuteTime": {
     "end_time": "2025-10-14T11:00:08.071527Z",
     "start_time": "2025-10-14T11:00:08.065753Z"
    }
   },
   "cell_type": "code",
   "source": [
    "# To create a copy of a file\n",
    "with open('test.txt', 'r') as rf:\n",
    "    with open('test_copy.txt', 'w') as wf:\n",
    "        for line in rf:\n",
    "            wf.write(line)\n"
   ],
   "id": "b13079006f9b63bf",
   "outputs": [],
   "execution_count": 32
  },
  {
   "metadata": {
    "ExecuteTime": {
     "end_time": "2025-10-14T11:10:04.000245Z",
     "start_time": "2025-10-14T11:10:03.995587Z"
    }
   },
   "cell_type": "code",
   "source": [
    "# Above code can also be written as:\n",
    "with open('test.txt', 'r') as rf, open('test_copy.txt', 'w') as wf:\n",
    "    for line in rf:\n",
    "        wf.write(line)"
   ],
   "id": "2fe3752c87b9d272",
   "outputs": [],
   "execution_count": 35
  },
  {
   "metadata": {
    "ExecuteTime": {
     "end_time": "2025-10-14T11:17:11.903801Z",
     "start_time": "2025-10-14T11:17:11.898209Z"
    }
   },
   "cell_type": "code",
   "source": [
    "# Copying images. We need to open and copy in binary mode\n",
    "with open('dog.jpg', 'rb') as rf, open('dog_copy.jpg', 'wb') as wf:\n",
    "    for line in rf:\n",
    "        wf.write(line)"
   ],
   "id": "316c5cea6f257b3d",
   "outputs": [],
   "execution_count": 36
  },
  {
   "metadata": {
    "ExecuteTime": {
     "end_time": "2025-10-14T11:30:53.796560Z",
     "start_time": "2025-10-14T11:30:53.790879Z"
    }
   },
   "cell_type": "code",
   "source": [
    "# Copying files in binary mode and in chunks\n",
    "chunk_size = 1024  # 1 KB chunks\n",
    "with open('dog.jpg', 'rb') as rf, open('dog_copy.jpg', 'wb') as wf:\n",
    "    f_content = rf.read(chunk_size)\n",
    "    while len(f_content) > 0:\n",
    "        wf.write(f_content)\n",
    "        f_content = rf.read(chunk_size)"
   ],
   "id": "1303993cdd05c44a",
   "outputs": [],
   "execution_count": 38
  },
  {
   "metadata": {},
   "cell_type": "code",
   "outputs": [],
   "execution_count": null,
   "source": "",
   "id": "d4f8e20d0a4bf562"
  }
 ],
 "metadata": {
  "kernelspec": {
   "display_name": "Python 3",
   "language": "python",
   "name": "python3"
  },
  "language_info": {
   "codemirror_mode": {
    "name": "ipython",
    "version": 2
   },
   "file_extension": ".py",
   "mimetype": "text/x-python",
   "name": "python",
   "nbconvert_exporter": "python",
   "pygments_lexer": "ipython2",
   "version": "2.7.6"
  }
 },
 "nbformat": 4,
 "nbformat_minor": 5
}
