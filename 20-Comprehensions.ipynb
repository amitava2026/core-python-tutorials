{
 "cells": [
  {
   "metadata": {
    "collapsed": true,
    "ExecuteTime": {
     "end_time": "2025-10-13T16:13:35.644678Z",
     "start_time": "2025-10-13T16:13:35.642027Z"
    }
   },
   "cell_type": "code",
   "source": [
    "# Python comprehensions are a very natural and easy way to create lists, dicts, and sets.\n",
    "# No tuple comprehension in python(see generator expression below)\n",
    "nums = [1, 2, 3, 4, 5, 6, 7, 8, 9, 10]"
   ],
   "id": "46a0b39aaa706f2b",
   "outputs": [],
   "execution_count": 37
  },
  {
   "metadata": {
    "ExecuteTime": {
     "end_time": "2025-10-13T16:13:36.173463Z",
     "start_time": "2025-10-13T16:13:36.170201Z"
    }
   },
   "cell_type": "code",
   "source": [
    "# I want 'n' for each 'n' in 'nums'\n",
    "my_list = []\n",
    "for n in nums:\n",
    "    my_list.append(n)\n",
    "print(my_list)"
   ],
   "id": "87d824e0f4739d0d",
   "outputs": [
    {
     "name": "stdout",
     "output_type": "stream",
     "text": [
      "[1, 2, 3, 4, 5, 6, 7, 8, 9, 10]\n"
     ]
    }
   ],
   "execution_count": 38
  },
  {
   "metadata": {
    "ExecuteTime": {
     "end_time": "2025-10-13T16:13:36.686272Z",
     "start_time": "2025-10-13T16:13:36.683080Z"
    }
   },
   "cell_type": "code",
   "source": [
    "# The above can be written using list comprehension\n",
    "my_list = [n for n in nums]  # I want 'n' for each 'n' in 'nums'\n",
    "print(my_list)"
   ],
   "id": "1f283c6cc8fcec2f",
   "outputs": [
    {
     "name": "stdout",
     "output_type": "stream",
     "text": [
      "[1, 2, 3, 4, 5, 6, 7, 8, 9, 10]\n"
     ]
    }
   ],
   "execution_count": 39
  },
  {
   "metadata": {
    "ExecuteTime": {
     "end_time": "2025-10-13T16:13:37.178793Z",
     "start_time": "2025-10-13T16:13:37.175626Z"
    }
   },
   "cell_type": "code",
   "source": [
    "# I want 'n*n' for each n in nums\n",
    "my_list = [n * n for n in nums]\n",
    "print(my_list)"
   ],
   "id": "ef582649c3ebdd2e",
   "outputs": [
    {
     "name": "stdout",
     "output_type": "stream",
     "text": [
      "[1, 4, 9, 16, 25, 36, 49, 64, 81, 100]\n"
     ]
    }
   ],
   "execution_count": 40
  },
  {
   "metadata": {
    "ExecuteTime": {
     "end_time": "2025-10-13T16:13:37.718814Z",
     "start_time": "2025-10-13T16:13:37.714680Z"
    }
   },
   "cell_type": "code",
   "source": [
    "# The above can be written using a lambda and map but is discouraged. List comprehensions are much cleaner.\n",
    "# A lambda in Python is a small, anonymous function that can be defined in a single line.\n",
    "# It's useful for simple operations where you don't want to write a full function definition.\n",
    "# syntax -    lambda arguments: expression\n",
    "# lambda return the value of the expression after evaluating it.\n",
    "square = lambda number: number * number\n",
    "square(3)"
   ],
   "id": "5336881cd4d6ebb3",
   "outputs": [
    {
     "data": {
      "text/plain": [
       "9"
      ]
     },
     "execution_count": 41,
     "metadata": {},
     "output_type": "execute_result"
    }
   ],
   "execution_count": 41
  },
  {
   "metadata": {
    "ExecuteTime": {
     "end_time": "2025-10-13T16:13:38.442063Z",
     "start_time": "2025-10-13T16:13:38.438846Z"
    }
   },
   "cell_type": "code",
   "source": [
    "students = [('Alice', 29), ('Bob', 21), ('Charlie', 19)]\n",
    "sorted_students = sorted(students, key=lambda student: student[1])  # sort by age\n",
    "print(sorted_students)"
   ],
   "id": "3321e84ec198de6",
   "outputs": [
    {
     "name": "stdout",
     "output_type": "stream",
     "text": [
      "[('Charlie', 19), ('Bob', 21), ('Alice', 29)]\n"
     ]
    }
   ],
   "execution_count": 42
  },
  {
   "metadata": {
    "ExecuteTime": {
     "end_time": "2025-10-13T16:13:39.052167Z",
     "start_time": "2025-10-13T16:13:39.048798Z"
    }
   },
   "cell_type": "code",
   "source": [
    "# map() is used to transform data in python\n",
    "# syntax -    map(function, iterable)\n",
    "# How it works - take this function and apply it to each element of the iterable\n",
    "# Note map returns an iterator so, one needs to convert it to an iterable object (list/set/tuple)\n",
    "# so, I want 'n*n' for each 'n' in 'nums' can be written as\n",
    "it = map(lambda number: number * number, nums)\n",
    "squared_list = list(it)\n",
    "print(squared_list)\n"
   ],
   "id": "350f8deef570e2f0",
   "outputs": [
    {
     "name": "stdout",
     "output_type": "stream",
     "text": [
      "[1, 4, 9, 16, 25, 36, 49, 64, 81, 100]\n"
     ]
    }
   ],
   "execution_count": 43
  },
  {
   "metadata": {
    "ExecuteTime": {
     "end_time": "2025-10-13T16:13:39.657517Z",
     "start_time": "2025-10-13T16:13:39.654139Z"
    }
   },
   "cell_type": "code",
   "source": [
    "# filter() goes through an iterable and keeps only the items that pass a test (return True).\n",
    "# syntax -   filter(function, iterable)\n",
    "# Here: function = a function that returns True or False; iterable = the list, tuple, etc. to filter\n",
    "# Note: just like map(), fiter() returns an iterator so, one needs to convert it to an iterable object (list/set/tuple)\n",
    "# Problem : I want 'n' for each 'n' in nums if n is even\n",
    "it = filter(lambda number: number % 2 == 0, nums)\n",
    "even_list = list(it)\n",
    "print(even_list)"
   ],
   "id": "87f7b55d8572ecea",
   "outputs": [
    {
     "name": "stdout",
     "output_type": "stream",
     "text": [
      "[2, 4, 6, 8, 10]\n"
     ]
    }
   ],
   "execution_count": 44
  },
  {
   "metadata": {
    "ExecuteTime": {
     "end_time": "2025-10-13T16:13:40.216117Z",
     "start_time": "2025-10-13T16:13:40.212806Z"
    }
   },
   "cell_type": "code",
   "source": [
    "# Above problem using list comprehensions\n",
    "even_list = [n for n in nums if n % 2 == 0]\n",
    "print(even_list)"
   ],
   "id": "ffa8401d572039d4",
   "outputs": [
    {
     "name": "stdout",
     "output_type": "stream",
     "text": [
      "[2, 4, 6, 8, 10]\n"
     ]
    }
   ],
   "execution_count": 45
  },
  {
   "metadata": {
    "ExecuteTime": {
     "end_time": "2025-10-13T16:13:40.730043Z",
     "start_time": "2025-10-13T16:13:40.726733Z"
    }
   },
   "cell_type": "code",
   "source": [
    "# I want a (letter, number) pair for each letter in 'abcd' and each number in '0123'\n",
    "my_list = []\n",
    "for l in 'abcd':\n",
    "    for n in range(4):\n",
    "        my_list.append((l, n))\n",
    "print(my_list)\n"
   ],
   "id": "8babc47f347fa300",
   "outputs": [
    {
     "name": "stdout",
     "output_type": "stream",
     "text": [
      "[('a', 0), ('a', 1), ('a', 2), ('a', 3), ('b', 0), ('b', 1), ('b', 2), ('b', 3), ('c', 0), ('c', 1), ('c', 2), ('c', 3), ('d', 0), ('d', 1), ('d', 2), ('d', 3)]\n"
     ]
    }
   ],
   "execution_count": 46
  },
  {
   "metadata": {
    "ExecuteTime": {
     "end_time": "2025-10-13T16:13:41.340425Z",
     "start_time": "2025-10-13T16:13:41.337552Z"
    }
   },
   "cell_type": "code",
   "source": [
    "# Nested list comprehension\n",
    "# [expression for item1 in iterable1 for item2 in iterable2]\n",
    "# Eg: result = [(i, j) for i in [1, 2, 3] for j in ['a', 'b']]\n",
    "# Think of it as: \"For each i, go through all j values\"\n",
    "# Above problem using list comprehension\n",
    "# Note : this is a cartesian product\n",
    "my_list = [(letter, num) for letter in 'abcd' for num in range(4)]\n",
    "print(my_list)"
   ],
   "id": "5338f7871f563ed7",
   "outputs": [
    {
     "name": "stdout",
     "output_type": "stream",
     "text": [
      "[('a', 0), ('a', 1), ('a', 2), ('a', 3), ('b', 0), ('b', 1), ('b', 2), ('b', 3), ('c', 0), ('c', 1), ('c', 2), ('c', 3), ('d', 0), ('d', 1), ('d', 2), ('d', 3)]\n"
     ]
    }
   ],
   "execution_count": 47
  },
  {
   "metadata": {
    "ExecuteTime": {
     "end_time": "2025-10-13T16:13:41.880915Z",
     "start_time": "2025-10-13T16:13:41.876419Z"
    }
   },
   "cell_type": "code",
   "source": [
    "# Flattening a 2D list using nested list comprehension\n",
    "# Always read the comprehension left to right like you would write nested loops top to bottom\n",
    "matrix = [[1, 2, 3], [4, 5, 6], [7, 8, 9]]\n",
    "[num for row in matrix for num in row]"
   ],
   "id": "40a8c8b8f14b992c",
   "outputs": [
    {
     "data": {
      "text/plain": [
       "[1, 2, 3, 4, 5, 6, 7, 8, 9]"
      ]
     },
     "execution_count": 48,
     "metadata": {},
     "output_type": "execute_result"
    }
   ],
   "execution_count": 48
  },
  {
   "metadata": {
    "ExecuteTime": {
     "end_time": "2025-10-13T16:13:42.395208Z",
     "start_time": "2025-10-13T16:13:42.390550Z"
    }
   },
   "cell_type": "code",
   "source": [
    "# Nested list comprehension using 'if' clause\n",
    "# EG: Pairs where sum is even\n",
    "# The 'if' clause is evaluated AFTER both loops have assigned values to i and j.\n",
    "# It tests each combination and only includes pairs that pass the condition.\n",
    "# Something like:\n",
    "# pairs = []\n",
    "# for i in range(1, 4):            # 1. Outer loop\n",
    "#     for j in range(1, 4):        # 2. Inner loop\n",
    "#         if (i + j) % 2 == 0:     # 3. Test the condition\n",
    "#             pairs.append((i, j)) # 4. Only add if True\n",
    "[(x, y) for x in range(1, 4) for y in range(1, 4) if (x + y) % 2 == 0]"
   ],
   "id": "baa6b82af4a8e39b",
   "outputs": [
    {
     "data": {
      "text/plain": [
       "[(1, 1), (1, 3), (2, 2), (3, 1), (3, 3)]"
      ]
     },
     "execution_count": 49,
     "metadata": {},
     "output_type": "execute_result"
    }
   ],
   "execution_count": 49
  },
  {
   "metadata": {
    "ExecuteTime": {
     "end_time": "2025-10-13T16:13:42.934797Z",
     "start_time": "2025-10-13T16:13:42.931194Z"
    }
   },
   "cell_type": "code",
   "source": [
    "# List of dicts: [{\"name\": hero_name, \"hero\": hero_identity}, ...]\n",
    "names = [\"Bruce\", \"Clarke\", \"Peter\", \"Logan\", \"Wade\"]\n",
    "heros = [\"Batman\", \"Superman\", \"Spiderman\", \"Wolverine\", \"Deadpool\"]\n",
    "\n",
    "my_list = []\n",
    "for name, hero in zip(names, heros):\n",
    "    my_dict = {\"name\": name, \"hero\": hero}\n",
    "    my_list.append(my_dict)\n",
    "print(my_list)"
   ],
   "id": "add5f0653f9f50a3",
   "outputs": [
    {
     "name": "stdout",
     "output_type": "stream",
     "text": [
      "[{'name': 'Bruce', 'hero': 'Batman'}, {'name': 'Clarke', 'hero': 'Superman'}, {'name': 'Peter', 'hero': 'Spiderman'}, {'name': 'Logan', 'hero': 'Wolverine'}, {'name': 'Wade', 'hero': 'Deadpool'}]\n"
     ]
    }
   ],
   "execution_count": 50
  },
  {
   "metadata": {
    "ExecuteTime": {
     "end_time": "2025-10-13T16:13:43.462486Z",
     "start_time": "2025-10-13T16:13:43.458881Z"
    }
   },
   "cell_type": "code",
   "source": [
    "# Above problem using list comprehension\n",
    "[{'name': name, 'hero': hero} for name, hero in zip(names, heros)]"
   ],
   "id": "478f31acd9a75c11",
   "outputs": [
    {
     "data": {
      "text/plain": [
       "[{'name': 'Bruce', 'hero': 'Batman'},\n",
       " {'name': 'Clarke', 'hero': 'Superman'},\n",
       " {'name': 'Peter', 'hero': 'Spiderman'},\n",
       " {'name': 'Logan', 'hero': 'Wolverine'},\n",
       " {'name': 'Wade', 'hero': 'Deadpool'}]"
      ]
     },
     "execution_count": 51,
     "metadata": {},
     "output_type": "execute_result"
    }
   ],
   "execution_count": 51
  },
  {
   "metadata": {
    "ExecuteTime": {
     "end_time": "2025-10-13T16:13:44.039393Z",
     "start_time": "2025-10-13T16:13:44.036273Z"
    }
   },
   "cell_type": "code",
   "source": [
    "# I want a dictionary with 'name': 'hero' as the key value pairs\n",
    "my_dict = {}\n",
    "for name, hero in zip(names, heros):\n",
    "    my_dict[name] = hero\n",
    "print(my_dict)"
   ],
   "id": "c3764da22f2212ac",
   "outputs": [
    {
     "name": "stdout",
     "output_type": "stream",
     "text": [
      "{'Bruce': 'Batman', 'Clarke': 'Superman', 'Peter': 'Spiderman', 'Logan': 'Wolverine', 'Wade': 'Deadpool'}\n"
     ]
    }
   ],
   "execution_count": 52
  },
  {
   "metadata": {
    "ExecuteTime": {
     "end_time": "2025-10-13T16:13:44.938447Z",
     "start_time": "2025-10-13T16:13:44.934958Z"
    }
   },
   "cell_type": "code",
   "source": [
    "# Above problem using dictionary comprehension:\n",
    "{name: hero for name, hero in zip(names, heros)}"
   ],
   "id": "754559f5dda390fc",
   "outputs": [
    {
     "data": {
      "text/plain": [
       "{'Bruce': 'Batman',\n",
       " 'Clarke': 'Superman',\n",
       " 'Peter': 'Spiderman',\n",
       " 'Logan': 'Wolverine',\n",
       " 'Wade': 'Deadpool'}"
      ]
     },
     "execution_count": 53,
     "metadata": {},
     "output_type": "execute_result"
    }
   ],
   "execution_count": 53
  },
  {
   "metadata": {
    "ExecuteTime": {
     "end_time": "2025-10-13T16:13:45.666665Z",
     "start_time": "2025-10-13T16:13:45.662334Z"
    }
   },
   "cell_type": "code",
   "source": [
    "# Above problem using dictionary comprehension but don't include Deadpool\n",
    "{name: hero for name, hero in zip(names, heros) if hero != 'Deadpool'}"
   ],
   "id": "d8ec65e91dee736a",
   "outputs": [
    {
     "data": {
      "text/plain": [
       "{'Bruce': 'Batman',\n",
       " 'Clarke': 'Superman',\n",
       " 'Peter': 'Spiderman',\n",
       " 'Logan': 'Wolverine'}"
      ]
     },
     "execution_count": 54,
     "metadata": {},
     "output_type": "execute_result"
    }
   ],
   "execution_count": 54
  },
  {
   "metadata": {
    "ExecuteTime": {
     "end_time": "2025-10-13T16:13:46.207928Z",
     "start_time": "2025-10-13T16:13:46.203054Z"
    }
   },
   "cell_type": "code",
   "source": [
    "# Set comprehension\n",
    "# Removing duplicates from a list\n",
    "words = ['hello', 'world', 'hello', 'python', 'world']\n",
    "my_set = set(words)\n",
    "print(my_set)\n",
    "\n",
    "# Using set comprehension\n",
    "{word for word in words}"
   ],
   "id": "92a1c0d8a8cb9cb5",
   "outputs": [
    {
     "name": "stdout",
     "output_type": "stream",
     "text": [
      "{'world', 'python', 'hello'}\n"
     ]
    },
    {
     "data": {
      "text/plain": [
       "{'hello', 'python', 'world'}"
      ]
     },
     "execution_count": 55,
     "metadata": {},
     "output_type": "execute_result"
    }
   ],
   "execution_count": 55
  },
  {
   "metadata": {
    "ExecuteTime": {
     "end_time": "2025-10-13T16:13:46.808316Z",
     "start_time": "2025-10-13T16:13:46.805051Z"
    }
   },
   "cell_type": "code",
   "source": [
    "# Problem square numbers but remove duplicates also include squares less than 25\n",
    "numbers = [1, 2, 2, 3, 3, 3, 4, 5, 5]\n",
    "squared_set = {num * num for num in numbers if num < 5}\n",
    "print(squared_set)"
   ],
   "id": "5324982dc33366fc",
   "outputs": [
    {
     "name": "stdout",
     "output_type": "stream",
     "text": [
      "{16, 1, 4, 9}\n"
     ]
    }
   ],
   "execution_count": 56
  },
  {
   "metadata": {
    "ExecuteTime": {
     "end_time": "2025-10-13T16:15:24.661293Z",
     "start_time": "2025-10-13T16:15:24.657523Z"
    }
   },
   "cell_type": "code",
   "source": [
    "# Note a list comprehension is very similar to a generator expression\n",
    "# Example: I want to yield 'number * number' for each number in numbers_list\n",
    "# Generator = an iterator that generates values lazily (on-demand)\n",
    "numbers_list = [1, 2, 3, 4, 5, 6, 7, 8, 9, 10]\n",
    "\n",
    "def gen_squares(list_numbers):\n",
    "    for number in list_numbers:\n",
    "        yield number * number\n",
    "\n",
    "\n",
    "for i in gen_squares(numbers_list):\n",
    "    print(i)"
   ],
   "id": "1720c4d713b52bd3",
   "outputs": [
    {
     "name": "stdout",
     "output_type": "stream",
     "text": [
      "1\n",
      "4\n",
      "9\n",
      "16\n",
      "25\n",
      "36\n",
      "49\n",
      "64\n",
      "81\n",
      "100\n"
     ]
    }
   ],
   "execution_count": 57
  },
  {
   "metadata": {
    "ExecuteTime": {
     "end_time": "2025-10-13T16:18:30.388082Z",
     "start_time": "2025-10-13T16:18:30.385401Z"
    }
   },
   "cell_type": "code",
   "source": [
    "# The above example using a generator expression\n",
    "squared_gen = (x * x for x in numbers_list)\n",
    "for i in squared_gen:\n",
    "    print(i)"
   ],
   "id": "31d7b7b350b13326",
   "outputs": [
    {
     "name": "stdout",
     "output_type": "stream",
     "text": [
      "1\n",
      "4\n",
      "9\n",
      "16\n",
      "25\n",
      "36\n",
      "49\n",
      "64\n",
      "81\n",
      "100\n"
     ]
    }
   ],
   "execution_count": 58
  },
  {
   "metadata": {},
   "cell_type": "code",
   "outputs": [],
   "execution_count": null,
   "source": "",
   "id": "afaf10d93dc851c2"
  }
 ],
 "metadata": {
  "kernelspec": {
   "display_name": "Python 3",
   "language": "python",
   "name": "python3"
  },
  "language_info": {
   "codemirror_mode": {
    "name": "ipython",
    "version": 2
   },
   "file_extension": ".py",
   "mimetype": "text/x-python",
   "name": "python",
   "nbconvert_exporter": "python",
   "pygments_lexer": "ipython2",
   "version": "2.7.6"
  }
 },
 "nbformat": 4,
 "nbformat_minor": 5
}
