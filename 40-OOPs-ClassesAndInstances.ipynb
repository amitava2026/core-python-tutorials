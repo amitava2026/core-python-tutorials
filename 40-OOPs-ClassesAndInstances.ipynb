{
 "cells": [
  {
   "cell_type": "code",
   "id": "initial_id",
   "metadata": {
    "collapsed": true,
    "ExecuteTime": {
     "end_time": "2025-10-18T03:48:17.452330Z",
     "start_time": "2025-10-18T03:48:17.448917Z"
    }
   },
   "source": [
    "# In python instance variables are called attributes\n",
    "# functions defined within classes are called methods\n",
    "class Employee:\n",
    "    pass\n",
    "\n",
    "\n",
    "emp1 = Employee()\n",
    "emp2 = Employee()\n",
    "\n",
    "print(emp1)\n",
    "print(emp2)"
   ],
   "outputs": [
    {
     "name": "stdout",
     "output_type": "stream",
     "text": [
      "<__main__.Employee object at 0x16c13a750>\n",
      "<__main__.Employee object at 0x16c1395d0>\n"
     ]
    }
   ],
   "execution_count": 6
  },
  {
   "metadata": {
    "ExecuteTime": {
     "end_time": "2025-10-18T03:54:01.423496Z",
     "start_time": "2025-10-18T03:54:01.419312Z"
    }
   },
   "cell_type": "code",
   "source": [
    "# Python lets you add new attributes to objects at runtime — even if they weren’t defined inside the class.\n",
    "# This is possible because each object has a built-in dictionary called __dict__ that stores all its attributes.\n",
    "# So when you write: emp1.name = \"John Doe\"\n",
    "# Python actually does this internally: emp1.__dict__['name'] = \"John Doe\"\n",
    "# Python is dynamic and flexible — you can add or remove attributes from instances on the fly.\n",
    "# The class just acts as a template, but instances are basically dictionaries with behavior.\n",
    "#\n",
    "# But There’s a Catch - This flexibility can cause inconsistency:\n",
    "# emp2 = Employee()\n",
    "# print(emp2.name)  # AttributeError: 'Employee' object has no attribute 'name'\n",
    "# Because emp2 doesn’t have name yet — it’s not automatically created.\n",
    "\n",
    "class Employee:\n",
    "    pass\n",
    "\n",
    "\n",
    "emp1 = Employee()\n",
    "emp1.name = \"John Doe\"\n",
    "emp1.email = \"john@mail.com\"\n",
    "\n",
    "print(emp1.name, emp1.email)"
   ],
   "id": "d22aa787eeb0f093",
   "outputs": [
    {
     "name": "stdout",
     "output_type": "stream",
     "text": [
      "John Doe john@mail.com\n"
     ]
    }
   ],
   "execution_count": 8
  },
  {
   "metadata": {
    "ExecuteTime": {
     "end_time": "2025-10-18T04:07:25.188404Z",
     "start_time": "2025-10-18T04:07:25.184454Z"
    }
   },
   "cell_type": "code",
   "source": [
    "# When we create methods within a class, they receive the instance as the 1st argument automatically\n",
    "# By convention, we call the instance as 'self'\n",
    "class Employee:\n",
    "    def __init__(self, first, last, pay):\n",
    "        self.first = first\n",
    "        self.last = last\n",
    "        self.pay = pay\n",
    "        self.email = f\"{first}.{last}@mail.com\"\n",
    "\n",
    "    def full_name(self):\n",
    "        return f\"{self.first} {self.last}\"\n",
    "\n",
    "\n",
    "emp1 = Employee(\"John\", \"Doe\", 50_000)\n",
    "print(emp1.full_name()) # Internally python calls Employee.full_name(emp1), hence you need self as the 1st argument in each method"
   ],
   "id": "b659237c6731bd2c",
   "outputs": [
    {
     "name": "stdout",
     "output_type": "stream",
     "text": [
      "John Doe\n"
     ]
    }
   ],
   "execution_count": 11
  },
  {
   "metadata": {
    "ExecuteTime": {
     "end_time": "2025-10-18T04:12:20.193107Z",
     "start_time": "2025-10-18T04:12:20.190445Z"
    }
   },
   "cell_type": "code",
   "source": [
    "# What happens if you forget to include self while defining a method in a class\n",
    "#   def full_name():\n",
    "#        return f\"{self.first} {self.last}\"\n",
    "#\n",
    "# The code would run without any error\n",
    "# But below code would throw an error (TypeError: Employee.full_name() takes 0 positional arguments but 1 was given)\n",
    "#\n",
    "# emp1 = Employee(\"John\", \"Doe\", 50_000)\n",
    "# emp1.full_name()\n",
    "#\n",
    "# Why does it say 1 was given, even though you are not passing any argument to emp1.full_name()\n",
    "# Internally python calls Employee.full_name(emp1)"
   ],
   "id": "ef47af41f4b52fd5",
   "outputs": [],
   "execution_count": 14
  },
  {
   "metadata": {},
   "cell_type": "code",
   "outputs": [],
   "execution_count": null,
   "source": "",
   "id": "64d03e2ddb97a634"
  }
 ],
 "metadata": {
  "kernelspec": {
   "display_name": "Python 3",
   "language": "python",
   "name": "python3"
  },
  "language_info": {
   "codemirror_mode": {
    "name": "ipython",
    "version": 2
   },
   "file_extension": ".py",
   "mimetype": "text/x-python",
   "name": "python",
   "nbconvert_exporter": "python",
   "pygments_lexer": "ipython2",
   "version": "2.7.6"
  }
 },
 "nbformat": 4,
 "nbformat_minor": 5
}
